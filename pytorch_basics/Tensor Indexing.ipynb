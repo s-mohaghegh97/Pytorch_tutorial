{
 "cells": [
  {
   "cell_type": "markdown",
   "id": "a313fa6d",
   "metadata": {},
   "source": [
    "# Tensor Indexing"
   ]
  },
  {
   "cell_type": "code",
   "execution_count": 1,
   "id": "bd5bca8b",
   "metadata": {},
   "outputs": [],
   "source": [
    "import torch"
   ]
  },
  {
   "cell_type": "code",
   "execution_count": 2,
   "id": "a167d382",
   "metadata": {},
   "outputs": [
    {
     "data": {
      "text/plain": [
       "tensor([[2.5771e-01, 7.2878e-01, 2.5868e-01, 7.4583e-01, 2.5402e-01, 6.3390e-01,\n",
       "         4.9045e-01, 1.8012e-01, 1.0019e-01, 1.3178e-01],\n",
       "        [6.3346e-01, 3.4503e-01, 4.1611e-01, 4.9231e-01, 7.2861e-01, 9.0911e-02,\n",
       "         3.5250e-04, 4.8047e-01, 8.6511e-01, 8.1382e-01],\n",
       "        [7.9724e-01, 5.2502e-01, 6.6859e-01, 8.5960e-01, 8.2475e-01, 4.5662e-01,\n",
       "         1.3679e-01, 4.6364e-02, 9.6118e-01, 7.0214e-01],\n",
       "        [6.5021e-01, 5.8216e-01, 6.6198e-01, 5.4765e-01, 4.5686e-01, 3.2887e-01,\n",
       "         1.3587e-01, 3.5749e-01, 7.7175e-01, 2.6793e-01],\n",
       "        [8.5976e-01, 4.8549e-01, 5.7066e-01, 2.4329e-01, 6.3985e-01, 3.0036e-01,\n",
       "         8.0435e-01, 7.0461e-01, 9.3837e-01, 2.9636e-01]])"
      ]
     },
     "execution_count": 2,
     "metadata": {},
     "output_type": "execute_result"
    }
   ],
   "source": [
    "batch_size = 5\n",
    "features = 10\n",
    "x = torch.rand((batch_size, features))\n",
    "x"
   ]
  },
  {
   "cell_type": "code",
   "execution_count": 3,
   "id": "1db26d89",
   "metadata": {},
   "outputs": [
    {
     "data": {
      "text/plain": [
       "tensor([0.2577, 0.7288, 0.2587, 0.7458, 0.2540, 0.6339, 0.4904, 0.1801, 0.1002,\n",
       "        0.1318])"
      ]
     },
     "execution_count": 3,
     "metadata": {},
     "output_type": "execute_result"
    }
   ],
   "source": [
    "x[0]"
   ]
  },
  {
   "cell_type": "code",
   "execution_count": 4,
   "id": "d44b510c",
   "metadata": {},
   "outputs": [
    {
     "data": {
      "text/plain": [
       "tensor([0.2577, 0.6335, 0.7972, 0.6502, 0.8598])"
      ]
     },
     "execution_count": 4,
     "metadata": {},
     "output_type": "execute_result"
    }
   ],
   "source": [
    "x[:, 0]"
   ]
  },
  {
   "cell_type": "code",
   "execution_count": 5,
   "id": "b22b9ff9",
   "metadata": {},
   "outputs": [
    {
     "data": {
      "text/plain": [
       "tensor([0.7972, 0.5250, 0.6686, 0.8596, 0.8248])"
      ]
     },
     "execution_count": 5,
     "metadata": {},
     "output_type": "execute_result"
    }
   ],
   "source": [
    "x[2, 0:5]"
   ]
  },
  {
   "cell_type": "code",
   "execution_count": 6,
   "id": "74c3ab19",
   "metadata": {},
   "outputs": [
    {
     "data": {
      "text/plain": [
       "tensor([[1.0000e+02, 7.2878e-01, 2.5868e-01, 7.4583e-01, 2.5402e-01, 6.3390e-01,\n",
       "         4.9045e-01, 1.8012e-01, 1.0019e-01, 1.3178e-01],\n",
       "        [6.3346e-01, 3.4503e-01, 4.1611e-01, 4.9231e-01, 7.2861e-01, 9.0911e-02,\n",
       "         3.5250e-04, 4.8047e-01, 8.6511e-01, 8.1382e-01],\n",
       "        [7.9724e-01, 5.2502e-01, 6.6859e-01, 8.5960e-01, 8.2475e-01, 4.5662e-01,\n",
       "         1.3679e-01, 4.6364e-02, 9.6118e-01, 7.0214e-01],\n",
       "        [6.5021e-01, 5.8216e-01, 6.6198e-01, 5.4765e-01, 4.5686e-01, 3.2887e-01,\n",
       "         1.3587e-01, 3.5749e-01, 7.7175e-01, 2.6793e-01],\n",
       "        [8.5976e-01, 4.8549e-01, 5.7066e-01, 2.4329e-01, 6.3985e-01, 3.0036e-01,\n",
       "         8.0435e-01, 7.0461e-01, 9.3837e-01, 2.9636e-01]])"
      ]
     },
     "execution_count": 6,
     "metadata": {},
     "output_type": "execute_result"
    }
   ],
   "source": [
    "x[0, 0] = 100\n",
    "x"
   ]
  },
  {
   "cell_type": "markdown",
   "id": "da0e5abd",
   "metadata": {},
   "source": [
    "### Fancy indexing"
   ]
  },
  {
   "cell_type": "code",
   "execution_count": 7,
   "id": "f25401cc",
   "metadata": {},
   "outputs": [
    {
     "data": {
      "text/plain": [
       "tensor([2, 5, 8])"
      ]
     },
     "execution_count": 7,
     "metadata": {},
     "output_type": "execute_result"
    }
   ],
   "source": [
    "x = torch.arange(10)\n",
    "indices = [2, 5, 8]\n",
    "x[indices]"
   ]
  },
  {
   "cell_type": "code",
   "execution_count": 8,
   "id": "fdf8ed89",
   "metadata": {},
   "outputs": [
    {
     "data": {
      "text/plain": [
       "tensor([[0.9523, 0.9659, 0.9590, 0.1427, 0.4035],\n",
       "        [0.7013, 0.6542, 0.6871, 0.6641, 0.2054],\n",
       "        [0.6900, 0.6252, 0.3419, 0.5304, 0.0620]])"
      ]
     },
     "execution_count": 8,
     "metadata": {},
     "output_type": "execute_result"
    }
   ],
   "source": [
    "x = torch.rand((3, 5))\n",
    "x"
   ]
  },
  {
   "cell_type": "code",
   "execution_count": 9,
   "id": "52378504",
   "metadata": {},
   "outputs": [
    {
     "data": {
      "text/plain": [
       "tensor([0.2054, 0.9523])"
      ]
     },
     "execution_count": 9,
     "metadata": {},
     "output_type": "execute_result"
    }
   ],
   "source": [
    "rows = torch.tensor([1, 0])\n",
    "cols = torch.tensor([4, 0])\n",
    "x[rows, cols]"
   ]
  },
  {
   "cell_type": "markdown",
   "id": "33c20d30",
   "metadata": {},
   "source": [
    "### More advanced indexing"
   ]
  },
  {
   "cell_type": "code",
   "execution_count": 10,
   "id": "8ee6abe2",
   "metadata": {},
   "outputs": [
    {
     "data": {
      "text/plain": [
       "tensor([0, 1, 9])"
      ]
     },
     "execution_count": 10,
     "metadata": {},
     "output_type": "execute_result"
    }
   ],
   "source": [
    "x = torch.arange(10)\n",
    "x[(x < 2) | (x > 8)]"
   ]
  },
  {
   "cell_type": "code",
   "execution_count": 11,
   "id": "10ca682e",
   "metadata": {},
   "outputs": [
    {
     "data": {
      "text/plain": [
       "tensor([3, 4, 5, 6, 7])"
      ]
     },
     "execution_count": 11,
     "metadata": {},
     "output_type": "execute_result"
    }
   ],
   "source": [
    "x[(x > 2) & (x < 8)]"
   ]
  },
  {
   "cell_type": "code",
   "execution_count": 12,
   "id": "ab93e4e3",
   "metadata": {},
   "outputs": [
    {
     "data": {
      "text/plain": [
       "tensor([0, 2, 4, 6, 8])"
      ]
     },
     "execution_count": 12,
     "metadata": {},
     "output_type": "execute_result"
    }
   ],
   "source": [
    "x[x.remainder(2) == 0]"
   ]
  },
  {
   "cell_type": "markdown",
   "id": "375ebed0",
   "metadata": {},
   "source": [
    "### Useful operations"
   ]
  },
  {
   "cell_type": "code",
   "execution_count": 13,
   "id": "724a0770",
   "metadata": {},
   "outputs": [
    {
     "data": {
      "text/plain": [
       "tensor([ 0,  2,  4,  6,  8, 10,  6,  7,  8,  9])"
      ]
     },
     "execution_count": 13,
     "metadata": {},
     "output_type": "execute_result"
    }
   ],
   "source": [
    "torch.where(x > 5, x, x*2)"
   ]
  },
  {
   "cell_type": "code",
   "execution_count": 14,
   "id": "51b9b89a",
   "metadata": {},
   "outputs": [
    {
     "data": {
      "text/plain": [
       "tensor([0, 1, 2, 3, 4])"
      ]
     },
     "execution_count": 14,
     "metadata": {},
     "output_type": "execute_result"
    }
   ],
   "source": [
    "torch.tensor([0, 0, 1, 2, 2, 3, 4]).unique()"
   ]
  },
  {
   "cell_type": "code",
   "execution_count": 15,
   "id": "b5b15eb4",
   "metadata": {},
   "outputs": [
    {
     "data": {
      "text/plain": [
       "1"
      ]
     },
     "execution_count": 15,
     "metadata": {},
     "output_type": "execute_result"
    }
   ],
   "source": [
    "x.ndimension()"
   ]
  },
  {
   "cell_type": "code",
   "execution_count": 16,
   "id": "bb9fe294",
   "metadata": {},
   "outputs": [
    {
     "data": {
      "text/plain": [
       "10"
      ]
     },
     "execution_count": 16,
     "metadata": {},
     "output_type": "execute_result"
    }
   ],
   "source": [
    "x.numel()"
   ]
  }
 ],
 "metadata": {
  "kernelspec": {
   "display_name": "Python 3 (ipykernel)",
   "language": "python",
   "name": "python3"
  },
  "language_info": {
   "codemirror_mode": {
    "name": "ipython",
    "version": 3
   },
   "file_extension": ".py",
   "mimetype": "text/x-python",
   "name": "python",
   "nbconvert_exporter": "python",
   "pygments_lexer": "ipython3",
   "version": "3.8.12"
  }
 },
 "nbformat": 4,
 "nbformat_minor": 5
}
