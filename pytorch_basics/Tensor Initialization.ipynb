{
 "cells": [
  {
   "cell_type": "markdown",
   "id": "338eca44",
   "metadata": {},
   "source": [
    "# Tensor Initialization"
   ]
  },
  {
   "cell_type": "markdown",
   "id": "391f7123",
   "metadata": {},
   "source": [
    "Get access to torch library"
   ]
  },
  {
   "cell_type": "code",
   "execution_count": 1,
   "id": "2e28ef53",
   "metadata": {},
   "outputs": [],
   "source": [
    "import torch"
   ]
  },
  {
   "cell_type": "markdown",
   "id": "70427c25",
   "metadata": {},
   "source": [
    "Display version of torch library"
   ]
  },
  {
   "cell_type": "code",
   "execution_count": 2,
   "id": "690ebfe9",
   "metadata": {},
   "outputs": [
    {
     "data": {
      "text/plain": [
       "'1.10.0'"
      ]
     },
     "execution_count": 2,
     "metadata": {},
     "output_type": "execute_result"
    }
   ],
   "source": [
    "torch.__version__"
   ]
  },
  {
   "cell_type": "markdown",
   "id": "64214f1d",
   "metadata": {},
   "source": [
    "Set torch device on GPU if GPU is available"
   ]
  },
  {
   "cell_type": "code",
   "execution_count": 3,
   "id": "6a95c314",
   "metadata": {},
   "outputs": [],
   "source": [
    "device = \"cuda\" if torch.cuda.is_available() else \"cpu\""
   ]
  },
  {
   "cell_type": "markdown",
   "id": "6aaf8437",
   "metadata": {},
   "source": [
    "Create a 2D tensor with float type elements and allocate tensor on chosen device A tensor can be created with requires_grad=True so that torch.autograd records operations on them for automatic differentiation"
   ]
  },
  {
   "cell_type": "code",
   "execution_count": 4,
   "id": "5b6d86e4",
   "metadata": {},
   "outputs": [],
   "source": [
    "my_tensor = torch.tensor([[1, 2, 3], [4, 5, 6]], dtype=torch.float32, device=device, requires_grad=True)"
   ]
  },
  {
   "cell_type": "code",
   "execution_count": 5,
   "id": "c2dbee1b",
   "metadata": {},
   "outputs": [
    {
     "data": {
      "text/plain": [
       "tensor([[1., 2., 3.],\n",
       "        [4., 5., 6.]], device='cuda:0', requires_grad=True)"
      ]
     },
     "execution_count": 5,
     "metadata": {},
     "output_type": "execute_result"
    }
   ],
   "source": [
    "my_tensor"
   ]
  },
  {
   "cell_type": "markdown",
   "id": "e7a3720f",
   "metadata": {},
   "source": [
    "Display tensor attribute"
   ]
  },
  {
   "cell_type": "code",
   "execution_count": 6,
   "id": "592f5fe8",
   "metadata": {},
   "outputs": [
    {
     "data": {
      "text/plain": [
       "torch.float32"
      ]
     },
     "execution_count": 6,
     "metadata": {},
     "output_type": "execute_result"
    }
   ],
   "source": [
    "my_tensor.dtype"
   ]
  },
  {
   "cell_type": "code",
   "execution_count": 7,
   "id": "f98b932e",
   "metadata": {},
   "outputs": [
    {
     "data": {
      "text/plain": [
       "device(type='cuda', index=0)"
      ]
     },
     "execution_count": 7,
     "metadata": {},
     "output_type": "execute_result"
    }
   ],
   "source": [
    "my_tensor.device"
   ]
  },
  {
   "cell_type": "code",
   "execution_count": 8,
   "id": "26709632",
   "metadata": {},
   "outputs": [
    {
     "data": {
      "text/plain": [
       "True"
      ]
     },
     "execution_count": 8,
     "metadata": {},
     "output_type": "execute_result"
    }
   ],
   "source": [
    "my_tensor.requires_grad"
   ]
  },
  {
   "cell_type": "markdown",
   "id": "a2ca5947",
   "metadata": {},
   "source": [
    "## Other common initialization methods"
   ]
  },
  {
   "cell_type": "markdown",
   "id": "78c797bd",
   "metadata": {},
   "source": [
    "Create empty tensor with specific size"
   ]
  },
  {
   "cell_type": "code",
   "execution_count": 9,
   "id": "fb693069",
   "metadata": {},
   "outputs": [
    {
     "data": {
      "text/plain": [
       "tensor([[0., 0., 0.],\n",
       "        [0., 0., 0.],\n",
       "        [0., 0., 0.]])"
      ]
     },
     "execution_count": 9,
     "metadata": {},
     "output_type": "execute_result"
    }
   ],
   "source": [
    "x = torch.empty(size=(3, 3))\n",
    "x"
   ]
  },
  {
   "cell_type": "markdown",
   "id": "e1928a7b",
   "metadata": {},
   "source": [
    "Create zero tensor with specific size"
   ]
  },
  {
   "cell_type": "code",
   "execution_count": 10,
   "id": "8e6555e7",
   "metadata": {},
   "outputs": [
    {
     "data": {
      "text/plain": [
       "tensor([[0., 0., 0.],\n",
       "        [0., 0., 0.],\n",
       "        [0., 0., 0.]])"
      ]
     },
     "execution_count": 10,
     "metadata": {},
     "output_type": "execute_result"
    }
   ],
   "source": [
    "x = torch.zeros(size=(3, 3))\n",
    "x"
   ]
  },
  {
   "cell_type": "markdown",
   "id": "0bc9e17b",
   "metadata": {},
   "source": [
    "Create a random tensor with a specific size that elements are between 0 and 1"
   ]
  },
  {
   "cell_type": "code",
   "execution_count": 11,
   "id": "4c8ecbd6",
   "metadata": {},
   "outputs": [
    {
     "data": {
      "text/plain": [
       "tensor([[0.0506, 0.9060, 0.4222],\n",
       "        [0.0072, 0.2473, 0.0295],\n",
       "        [0.5915, 0.5130, 0.1004]])"
      ]
     },
     "execution_count": 11,
     "metadata": {},
     "output_type": "execute_result"
    }
   ],
   "source": [
    "x = torch.rand(size=(3, 3))\n",
    "x"
   ]
  },
  {
   "cell_type": "markdown",
   "id": "7ef076b1",
   "metadata": {},
   "source": [
    "Create a tensor with a specific size that elements are 1"
   ]
  },
  {
   "cell_type": "code",
   "execution_count": 12,
   "id": "66d5db7f",
   "metadata": {},
   "outputs": [
    {
     "data": {
      "text/plain": [
       "tensor([[1., 1., 1.],\n",
       "        [1., 1., 1.],\n",
       "        [1., 1., 1.]])"
      ]
     },
     "execution_count": 12,
     "metadata": {},
     "output_type": "execute_result"
    }
   ],
   "source": [
    "x = torch.ones(size=(3, 3))\n",
    "x"
   ]
  },
  {
   "cell_type": "markdown",
   "id": "3ffac23e",
   "metadata": {},
   "source": [
    "Create a identity tensor with a specific size"
   ]
  },
  {
   "cell_type": "code",
   "execution_count": 13,
   "id": "1467a303",
   "metadata": {},
   "outputs": [
    {
     "data": {
      "text/plain": [
       "tensor([[1., 0., 0., 0., 0.],\n",
       "        [0., 1., 0., 0., 0.],\n",
       "        [0., 0., 1., 0., 0.],\n",
       "        [0., 0., 0., 1., 0.],\n",
       "        [0., 0., 0., 0., 1.]])"
      ]
     },
     "execution_count": 13,
     "metadata": {},
     "output_type": "execute_result"
    }
   ],
   "source": [
    "x = torch.eye(n=5)\n",
    "x"
   ]
  },
  {
   "cell_type": "markdown",
   "id": "5ec9c879",
   "metadata": {},
   "source": [
    "Create a 1D tensor with values from the interval [start, end) taken with common difference step beginning from start."
   ]
  },
  {
   "cell_type": "code",
   "execution_count": 14,
   "id": "56a5d984",
   "metadata": {},
   "outputs": [
    {
     "data": {
      "text/plain": [
       "tensor([0, 1, 2, 3, 4])"
      ]
     },
     "execution_count": 14,
     "metadata": {},
     "output_type": "execute_result"
    }
   ],
   "source": [
    "x = torch.arange(start=0, end=5, step=1)\n",
    "x"
   ]
  },
  {
   "cell_type": "markdown",
   "id": "749d1544",
   "metadata": {},
   "source": [
    "Creates a 1D tensor of size steps whose values are evenly spaced from start to end, inclusive."
   ]
  },
  {
   "cell_type": "code",
   "execution_count": 15,
   "id": "a66ae780",
   "metadata": {},
   "outputs": [
    {
     "data": {
      "text/plain": [
       "tensor([0.1000, 0.2000, 0.3000, 0.4000, 0.5000, 0.6000, 0.7000, 0.8000, 0.9000,\n",
       "        1.0000])"
      ]
     },
     "execution_count": 15,
     "metadata": {},
     "output_type": "execute_result"
    }
   ],
   "source": [
    "x = torch.linspace(start=0.1, end=1, steps=10)\n",
    "x"
   ]
  },
  {
   "cell_type": "markdown",
   "id": "2617c62b",
   "metadata": {},
   "source": [
    "Fills tensor with elements samples from the normal distribution parameterized by mean and std."
   ]
  },
  {
   "cell_type": "code",
   "execution_count": 16,
   "id": "a7d55473",
   "metadata": {},
   "outputs": [
    {
     "data": {
      "text/plain": [
       "tensor([[ 0.0183, -0.9207,  1.0316,  0.1307, -1.6224]])"
      ]
     },
     "execution_count": 16,
     "metadata": {},
     "output_type": "execute_result"
    }
   ],
   "source": [
    "x = torch.empty(size=(1, 5)).normal_(mean=0, std=1)\n",
    "x"
   ]
  },
  {
   "cell_type": "markdown",
   "id": "6a27d46b",
   "metadata": {},
   "source": [
    "Fills tensor with numbers sampled from the continuous uniform distribution:"
   ]
  },
  {
   "cell_type": "code",
   "execution_count": 17,
   "id": "5c3efe4a",
   "metadata": {},
   "outputs": [
    {
     "data": {
      "text/plain": [
       "tensor([[0.1254, 0.1371, 0.9259, 0.3138, 0.6046]])"
      ]
     },
     "execution_count": 17,
     "metadata": {},
     "output_type": "execute_result"
    }
   ],
   "source": [
    "x = torch.empty(size=(1, 5)).uniform_(0, 1)\n",
    "x"
   ]
  },
  {
   "cell_type": "markdown",
   "id": "f6c9563d",
   "metadata": {},
   "source": [
    "Create the diagonal of tensor."
   ]
  },
  {
   "cell_type": "code",
   "execution_count": 18,
   "id": "a04a6571",
   "metadata": {},
   "outputs": [
    {
     "data": {
      "text/plain": [
       "tensor([[1., 0., 0.],\n",
       "        [0., 1., 0.],\n",
       "        [0., 0., 1.]])"
      ]
     },
     "execution_count": 18,
     "metadata": {},
     "output_type": "execute_result"
    }
   ],
   "source": [
    "x = torch.diag(torch.ones(3))\n",
    "x"
   ]
  },
  {
   "cell_type": "markdown",
   "id": "d3220435",
   "metadata": {},
   "source": [
    "## How to initialize and convert tensors to others types"
   ]
  },
  {
   "cell_type": "code",
   "execution_count": 19,
   "id": "a5b2176d",
   "metadata": {},
   "outputs": [
    {
     "data": {
      "text/plain": [
       "tensor([0, 1, 2, 3])"
      ]
     },
     "execution_count": 19,
     "metadata": {},
     "output_type": "execute_result"
    }
   ],
   "source": [
    "tensor = torch.arange(4)\n",
    "tensor"
   ]
  },
  {
   "cell_type": "markdown",
   "id": "37aaf1de",
   "metadata": {},
   "source": [
    "Convert to boolean type"
   ]
  },
  {
   "cell_type": "code",
   "execution_count": 20,
   "id": "f6e61376",
   "metadata": {},
   "outputs": [
    {
     "data": {
      "text/plain": [
       "tensor([False,  True,  True,  True])"
      ]
     },
     "execution_count": 20,
     "metadata": {},
     "output_type": "execute_result"
    }
   ],
   "source": [
    "tensor.bool()"
   ]
  },
  {
   "cell_type": "markdown",
   "id": "0b6cb7e8",
   "metadata": {},
   "source": [
    "Convert to int16 type"
   ]
  },
  {
   "cell_type": "code",
   "execution_count": 21,
   "id": "9f7352e5",
   "metadata": {},
   "outputs": [
    {
     "data": {
      "text/plain": [
       "tensor([0, 1, 2, 3], dtype=torch.int16)"
      ]
     },
     "execution_count": 21,
     "metadata": {},
     "output_type": "execute_result"
    }
   ],
   "source": [
    "tensor.short()"
   ]
  },
  {
   "cell_type": "markdown",
   "id": "70481fad",
   "metadata": {},
   "source": [
    "Convert to int64 type"
   ]
  },
  {
   "cell_type": "code",
   "execution_count": 22,
   "id": "e78bafc3",
   "metadata": {},
   "outputs": [
    {
     "data": {
      "text/plain": [
       "tensor([0, 1, 2, 3])"
      ]
     },
     "execution_count": 22,
     "metadata": {},
     "output_type": "execute_result"
    }
   ],
   "source": [
    "tensor.long()"
   ]
  },
  {
   "cell_type": "markdown",
   "id": "3bf6b0e2",
   "metadata": {},
   "source": [
    "Convert to float16 type"
   ]
  },
  {
   "cell_type": "code",
   "execution_count": 23,
   "id": "75050b60",
   "metadata": {},
   "outputs": [
    {
     "data": {
      "text/plain": [
       "tensor([0., 1., 2., 3.], dtype=torch.float16)"
      ]
     },
     "execution_count": 23,
     "metadata": {},
     "output_type": "execute_result"
    }
   ],
   "source": [
    "tensor.half()"
   ]
  },
  {
   "cell_type": "markdown",
   "id": "4d47f2ce",
   "metadata": {},
   "source": [
    "Convert to float32 type"
   ]
  },
  {
   "cell_type": "code",
   "execution_count": 24,
   "id": "c0f8ce3f",
   "metadata": {},
   "outputs": [
    {
     "data": {
      "text/plain": [
       "tensor([0., 1., 2., 3.])"
      ]
     },
     "execution_count": 24,
     "metadata": {},
     "output_type": "execute_result"
    }
   ],
   "source": [
    "tensor.float()"
   ]
  },
  {
   "cell_type": "markdown",
   "id": "f75210e7",
   "metadata": {},
   "source": [
    "Convert to float64 type"
   ]
  },
  {
   "cell_type": "code",
   "execution_count": 25,
   "id": "0ae1a1c8",
   "metadata": {},
   "outputs": [
    {
     "data": {
      "text/plain": [
       "tensor([0., 1., 2., 3.], dtype=torch.float64)"
      ]
     },
     "execution_count": 25,
     "metadata": {},
     "output_type": "execute_result"
    }
   ],
   "source": [
    "tensor.double()"
   ]
  },
  {
   "cell_type": "markdown",
   "id": "bc3d8d73",
   "metadata": {},
   "source": [
    "## Array to Tensor conversion and vice-versa"
   ]
  },
  {
   "cell_type": "code",
   "execution_count": 26,
   "id": "5efe7f77",
   "metadata": {},
   "outputs": [
    {
     "data": {
      "text/plain": [
       "array([[0., 0., 0., 0., 0.],\n",
       "       [0., 0., 0., 0., 0.],\n",
       "       [0., 0., 0., 0., 0.],\n",
       "       [0., 0., 0., 0., 0.],\n",
       "       [0., 0., 0., 0., 0.]])"
      ]
     },
     "execution_count": 26,
     "metadata": {},
     "output_type": "execute_result"
    }
   ],
   "source": [
    "import numpy as np\n",
    "np_array = np.zeros((5, 5))\n",
    "np_array"
   ]
  },
  {
   "cell_type": "code",
   "execution_count": 27,
   "id": "780cf82f",
   "metadata": {},
   "outputs": [
    {
     "data": {
      "text/plain": [
       "tensor([[0., 0., 0., 0., 0.],\n",
       "        [0., 0., 0., 0., 0.],\n",
       "        [0., 0., 0., 0., 0.],\n",
       "        [0., 0., 0., 0., 0.],\n",
       "        [0., 0., 0., 0., 0.]], dtype=torch.float64)"
      ]
     },
     "execution_count": 27,
     "metadata": {},
     "output_type": "execute_result"
    }
   ],
   "source": [
    "tensor = torch.from_numpy(np_array)\n",
    "tensor"
   ]
  },
  {
   "cell_type": "code",
   "execution_count": 28,
   "id": "332d4d24",
   "metadata": {},
   "outputs": [
    {
     "data": {
      "text/plain": [
       "array([[0., 0., 0., 0., 0.],\n",
       "       [0., 0., 0., 0., 0.],\n",
       "       [0., 0., 0., 0., 0.],\n",
       "       [0., 0., 0., 0., 0.],\n",
       "       [0., 0., 0., 0., 0.]])"
      ]
     },
     "execution_count": 28,
     "metadata": {},
     "output_type": "execute_result"
    }
   ],
   "source": [
    "np_array_back = tensor.numpy()\n",
    "np_array_back"
   ]
  }
 ],
 "metadata": {
  "kernelspec": {
   "display_name": "Python 3 (ipykernel)",
   "language": "python",
   "name": "python3"
  },
  "language_info": {
   "codemirror_mode": {
    "name": "ipython",
    "version": 3
   },
   "file_extension": ".py",
   "mimetype": "text/x-python",
   "name": "python",
   "nbconvert_exporter": "python",
   "pygments_lexer": "ipython3",
   "version": "3.8.12"
  }
 },
 "nbformat": 4,
 "nbformat_minor": 5
}
